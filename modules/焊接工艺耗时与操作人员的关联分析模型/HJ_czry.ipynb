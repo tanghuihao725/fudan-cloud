{
 "cells": [
  {
   "cell_type": "code",
   "execution_count": 152,
   "metadata": {},
   "outputs": [
    {
     "name": "stderr",
     "output_type": "stream",
     "text": [
      "usage: ipykernel_launcher.py [-h] [--train_dir TRAIN_DIR] [--support SUPPORT]\n",
      "                             [--confidence CONFIDENCE]\n",
      "ipykernel_launcher.py: error: unrecognized arguments: -f C:\\Users\\super\\AppData\\Roaming\\jupyter\\runtime\\kernel-2e55400c-036a-4e99-97ce-a3ab125e83df.json\n"
     ]
    },
    {
     "ename": "SystemExit",
     "evalue": "2",
     "output_type": "error",
     "traceback": [
      "An exception has occurred, use %tb to see the full traceback.\n",
      "\u001b[1;31mSystemExit\u001b[0m\u001b[1;31m:\u001b[0m 2\n"
     ]
    },
    {
     "name": "stderr",
     "output_type": "stream",
     "text": [
      "E:\\anaconda\\lib\\site-packages\\IPython\\core\\interactiveshell.py:3339: UserWarning: To exit: use 'exit', 'quit', or Ctrl-D.\n",
      "  warn(\"To exit: use 'exit', 'quit', or Ctrl-D.\", stacklevel=1)\n"
     ]
    }
   ],
   "source": [
    "import numpy as np\n",
    "import pandas as pd\n",
    "import orangecontrib.associate.fpgrowth as oaf\n",
    "import datetime\n",
    "import argparse\n",
    "parser = argparse.ArgumentParser()\n",
    "parser.add_argument('--train_dir', type=str, default='./trainDataHJ.txt')\n",
    "parser.add_argument('--rules_dir', type=str, default='./rulesDataHJ.txt')\n",
    "parser.add_argument('--support', type=float, default=0.2)\n",
    "parser.add_argument('--confidence',type=float,default=0.2)\n",
    "args = parser.parse_args()"
   ]
  },
  {
   "cell_type": "code",
   "execution_count": 139,
   "metadata": {},
   "outputs": [],
   "source": [
    "y=np.random.randint(1,6,[1000,])\n",
    "born=np.random.randint(1960,2003,[1000,])\n",
    "start_work=born+np.random.randint(18,41,[1000,])\n",
    "start_work[start_work>2020]=2020\n",
    "degree=np.random.randint(1,5,[1000,])\n",
    "dept=np.random.randint(1,6,[1000,])\n",
    "mach_cat=np.random.randint(1,4,[1000,])\n",
    "meth_cat=np.random.randint(1,4,[1000,])\n",
    "prof=np.random.random_sample([1000,])"
   ]
  },
  {
   "cell_type": "code",
   "execution_count": 140,
   "metadata": {},
   "outputs": [],
   "source": [
    "df=pd.DataFrame({\n",
    "    \"born\":born,\n",
    "    \"start_work\":start_work,\n",
    "    \"dept\":dept,\n",
    "    \"degree\":degree,\n",
    "    \"prof\":prof,\n",
    "    \"mach_cat\":mach_cat,\n",
    "    \"meth_cat\":meth_cat,\n",
    "    \"time\":y\n",
    "})"
   ]
  },
  {
   "cell_type": "code",
   "execution_count": 142,
   "metadata": {},
   "outputs": [],
   "source": [
    "#df.to_csv('trainDataHJ.csv',index=False)"
   ]
  },
  {
   "cell_type": "code",
   "execution_count": 149,
   "metadata": {},
   "outputs": [],
   "source": [
    "def data_pre(path):\n",
    "    df=pd.read_csv(path)\n",
    "    now_y=datetime.datetime.now().year\n",
    "    #transform date to time\n",
    "    df['born']=df['born'].map(lambda x:now_y-x+1)\n",
    "    df['start_work']=df['start_work'].map(lambda x:now_y-x+1)\n",
    "    #iscretization\n",
    "    bins=[18,25,35,45,60]\n",
    "    df['born']=pd.cut(df['born'],bins,right=False,labels=['1','2','3','4'])\n",
    "    bins=[1,3,5,10,41]\n",
    "    df['start_work']=pd.cut(df['start_work'],bins,right=False,labels=['1','2','3','4'])\n",
    "    bins=[0,0.6,0.8,0.9,1]\n",
    "    df['prof']=pd.cut(df['prof'],bins,right=False,labels=['1','2','3','4'])\n",
    "    #type trans\n",
    "    df['dept']=df['dept'].apply(str)\n",
    "    df['mach_cat']=df['mach_cat'].apply(str)\n",
    "    df['meth_cat']=df['meth_cat'].apply(str)\n",
    "    df['degree']=df['degree'].apply(str)\n",
    "    df['time']=df['time'].apply(str)\n",
    "    #one_hot\n",
    "    df=pd.get_dummies(df)\n",
    "    strDecode=df.columns.values.tolist()\n",
    "    data=df.values\n",
    "    data.dtype=bool\n",
    "    return data,strDecode"
   ]
  },
  {
   "cell_type": "code",
   "execution_count": 159,
   "metadata": {},
   "outputs": [],
   "source": [
    "def model(data,support=0.05,confidence=0.2):\n",
    "    fre_ite=dict(oaf.frequent_itemsets(data,support))  #这里设置置信度\n",
    "    rules = oaf.association_rules(fre_ite,confidence)\n",
    "    result=list(rules)\n",
    "    return result"
   ]
  },
  {
   "cell_type": "code",
   "execution_count": 187,
   "metadata": {},
   "outputs": [],
   "source": [
    "def dealResult(rules,strDecode):\n",
    "    returnRules = []\n",
    "    for i in rules:\n",
    "        j= list(i[1])\n",
    "        if len(j)==1 and strDecode[j[0]].startswith('time') :\n",
    "            temStr = [];\n",
    "            temp=''\n",
    "            for k in i[0]:\n",
    "                temp = temp+strDecode[k]+'&'\n",
    "            temp = temp[:-1]\n",
    "            temp = temp + ' ==> '\n",
    "            temp = temp +strDecode[j[0]] \n",
    "            temStr.append(temp)\n",
    "            temStr.append(i[2])\n",
    "            temStr.append(i[3])\n",
    "            returnRules.append(temStr)\n",
    "    returnRules=list(sorted(returnRules,key=lambda x:(-x[2],-x[1])))\n",
    "    return returnRules\n",
    "    \n"
   ]
  },
  {
   "cell_type": "code",
   "execution_count": 193,
   "metadata": {},
   "outputs": [
    {
     "name": "stdout",
     "output_type": "stream",
     "text": [
      "Rules\tsupport\tconfidence\n",
      "\n",
      "prof_1&meth_cat_2 ==> time_2\t59\t0.2796208530805687\n",
      "\n",
      "born_3 ==> time_1\t52\t0.2708333333333333\n",
      "\n",
      "meth_cat_1&prof_1 ==> time_4\t51\t0.2537313432835821\n",
      "\n",
      "meth_cat_1 ==> time_4\t86\t0.25219941348973607\n",
      "\n",
      "meth_cat_1&prof_1 ==> time_5\t50\t0.24875621890547264\n",
      "\n",
      "born_4 ==> time_4\t87\t0.2457627118644068\n",
      "\n",
      "born_4&start_work_4 ==> time_4\t82\t0.24404761904761904\n",
      "\n",
      "prof_1&start_work_4 ==> time_2\t74\t0.24262295081967214\n",
      "\n",
      "mach_cat_3 ==> time_4\t80\t0.24242424242424243\n",
      "\n",
      "prof_1&born_4&start_work_4 ==> time_4\t50\t0.23923444976076555\n",
      "\n",
      "degree_3 ==> time_4\t53\t0.23873873873873874\n",
      "\n",
      "prof_1&born_4 ==> time_4\t52\t0.23853211009174313\n",
      "\n",
      "meth_cat_3 ==> time_1\t75\t0.23734177215189872\n",
      "\n",
      "born_2 ==> time_4\t56\t0.23628691983122363\n",
      "\n",
      "degree_4 ==> time_1\t64\t0.23529411764705882\n",
      "\n",
      "mach_cat_2 ==> time_4\t80\t0.23323615160349853\n",
      "\n",
      "dept_3 ==> time_4\t50\t0.23148148148148148\n",
      "\n",
      "dept_3 ==> time_2\t50\t0.23148148148148148\n",
      "\n",
      "meth_cat_2 ==> time_2\t78\t0.22740524781341107\n",
      "\n",
      "mach_cat_1 ==> time_1\t74\t0.22629969418960244\n",
      "\n",
      "degree_2 ==> time_4\t56\t0.22580645161290322\n",
      "\n",
      "degree_1 ==> time_5\t58\t0.2248062015503876\n",
      "\n",
      "start_work_1 ==> time_5\t75\t0.22388059701492538\n",
      "\n",
      "start_work_4 ==> time_2\t110\t0.22\n",
      "\n",
      "start_work_1 ==> time_1\t73\t0.21791044776119403\n",
      "\n",
      "prof_1 ==> time_2\t129\t0.21680672268907564\n",
      "\n",
      "meth_cat_3 ==> time_4\t68\t0.21518987341772153\n",
      "\n",
      "born_4&start_work_4 ==> time_2\t72\t0.21428571428571427\n",
      "\n",
      "mach_cat_1 ==> time_3\t70\t0.21406727828746178\n",
      "\n",
      "degree_2 ==> time_2\t53\t0.21370967741935484\n",
      "\n",
      "degree_4 ==> time_4\t58\t0.21323529411764705\n",
      "\n",
      "born_4 ==> time_2\t75\t0.211864406779661\n",
      "\n",
      "prof_1 ==> time_4\t126\t0.21176470588235294\n",
      "\n",
      "mach_cat_2 ==> time_2\t72\t0.2099125364431487\n",
      "\n",
      "meth_cat_1 ==> time_5\t71\t0.20821114369501467\n",
      "\n",
      "start_work_4 ==> time_4\t104\t0.208\n",
      "\n",
      "meth_cat_2 ==> time_1\t71\t0.20699708454810495\n",
      "\n",
      "mach_cat_3 ==> time_1\t68\t0.20606060606060606\n",
      "\n",
      "degree_4 ==> time_2\t56\t0.20588235294117646\n",
      "\n",
      "degree_2 ==> time_5\t51\t0.2056451612903226\n",
      "\n",
      "mach_cat_2 ==> time_5\t70\t0.20408163265306123\n",
      "\n",
      "born_4 ==> time_3\t72\t0.2033898305084746\n",
      "\n",
      "prof_1&start_work_4 ==> time_4\t62\t0.20327868852459016\n",
      "\n",
      "meth_cat_3 ==> time_2\t64\t0.20253164556962025\n",
      "\n",
      "prof_1 ==> time_5\t120\t0.20168067226890757\n",
      "\n",
      "start_work_1 ==> time_2\t67\t0.2\n",
      "\n"
     ]
    }
   ],
   "source": [
    "support=0.05\n",
    "confidence=0.2\n",
    "train_dir='trainDataHJ.csv'\n",
    "rules_dir='rulesDataHJ.txt'\n",
    "data,strDecode=data_pre(train_dir)\n",
    "result=model(data,support,confidence)\n",
    "printRules= dealResult(result,strDecode)\n",
    "file=open(rules_dir,'w')\n",
    "print('Rules'+'\\t'+'support'+'\\t'+'confidence'+'\\n')\n",
    "file.write('Rules'+'\\t'+'support'+'\\t'+'confidence'+'\\n')\n",
    "for line in printRules:\n",
    "    s='\\t'.join([str(i) for i in line])\n",
    "    print(s+'\\n')\n",
    "    file.write(s+'\\n')\n",
    "file.close()\n",
    "    "
   ]
  },
  {
   "cell_type": "code",
   "execution_count": null,
   "metadata": {},
   "outputs": [],
   "source": []
  }
 ],
 "metadata": {
  "kernelspec": {
   "display_name": "Python 3",
   "language": "python",
   "name": "python3"
  },
  "language_info": {
   "codemirror_mode": {
    "name": "ipython",
    "version": 3
   },
   "file_extension": ".py",
   "mimetype": "text/x-python",
   "name": "python",
   "nbconvert_exporter": "python",
   "pygments_lexer": "ipython3",
   "version": "3.7.6"
  }
 },
 "nbformat": 4,
 "nbformat_minor": 4
}
